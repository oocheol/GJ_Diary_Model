{
 "cells": [
  {
   "cell_type": "code",
   "execution_count": 1,
   "metadata": {},
   "outputs": [
    {
     "data": {
      "text/plain": [
       "['아', '더빙', '진짜', '짜증나다', '목소리']"
      ]
     },
     "execution_count": 1,
     "metadata": {},
     "output_type": "execute_result"
    }
   ],
   "source": [
    "import csv\n",
    "\n",
    "with open('X_train1.csv', 'r', encoding='utf-8-sig') as f: \n",
    "  rdr = csv.reader(f) \n",
    "  test = list(rdr)[0]\n",
    "\n",
    "test = list(test)\n",
    "for idx, i in enumerate(test):\n",
    "  test[idx] = i.strip('][').split(', ')\n",
    "\n",
    "for i in range(len(test)):\n",
    "  for j in range(len(test[i])):\n",
    "    test[i][j] = test[i][j][1:-1]\n",
    "\n",
    "test[0]"
   ]
  },
  {
   "cell_type": "code",
   "execution_count": 2,
   "metadata": {},
   "outputs": [],
   "source": [
    "from tensorflow.keras.models import load_model\n",
    "import re\n",
    "from konlpy.tag import Okt\n",
    "from tensorflow.keras.preprocessing.text import Tokenizer\n",
    "from tensorflow.keras.preprocessing.sequence import pad_sequences\n",
    "\n",
    "\n",
    "okt = Okt()\n",
    "stopwords = ['의','가','이','은','들','는','좀','잘','걍','과','도','를','으로','자','에','와','한','하다']\n",
    "\n",
    "max_len = 30\n",
    "\n",
    "tokenizer = Tokenizer(19416)\n",
    "tokenizer.fit_on_texts(test)\n",
    "\n",
    "loaded_model = load_model('best_model.h5')\n",
    "\n",
    "def sentiment_predict(new_sentence):\n",
    "  new_sentence = re.sub(r'[^ㄱ-ㅎㅏ-ㅣ가-힣 ]','', new_sentence)\n",
    "  new_sentence = okt.morphs(new_sentence, stem=True) # 토큰화\n",
    "  new_sentence = [word for word in new_sentence if not word in stopwords] # 불용어 제거\n",
    "  encoded = tokenizer.texts_to_sequences([new_sentence]) # 정수 인코딩\n",
    "  pad_new = pad_sequences(encoded, maxlen = max_len) # 패딩\n",
    "  score = float(loaded_model.predict(pad_new)) # 예측\n",
    "  print(\"긍정 {:.2f}% / 부정 {:.2f}%\\n\".format(score * 100,(1- score) * 100))"
   ]
  },
  {
   "cell_type": "code",
   "execution_count": 3,
   "metadata": {},
   "outputs": [
    {
     "name": "stdout",
     "output_type": "stream",
     "text": [
      "긍정 0.51% / 부정 99.49%\n",
      "\n",
      "긍정 73.65% / 부정 26.35%\n",
      "\n"
     ]
    }
   ],
   "source": [
    "sentiment_predict('오늘 너무 피곤하고 짜증나고 그냥 집에나 가고싶다')\n",
    "sentiment_predict('오늘 너무 피곤했지만 집에 가고싶은 생각에 행복해졌다.')"
   ]
  },
  {
   "cell_type": "code",
   "execution_count": 4,
   "metadata": {},
   "outputs": [
    {
     "name": "stdout",
     "output_type": "stream",
     "text": [
      "긍정 31.92% / 부정 68.08%\n",
      "\n",
      "긍정 87.84% / 부정 12.16%\n",
      "\n"
     ]
    }
   ],
   "source": [
    "# 선미\n",
    "\n",
    "sentiment_predict('''\n",
    "다시 전체대면 할 것을 생각하니 벌써부터 피곤하다.\n",
    "학교사람들을 만나면 재밌지만 가기까지의 과정이 힘들다.\n",
    "빨리 졸업했으면 좋겠다.''')\n",
    "\n",
    "sentiment_predict('''\n",
    "다시 전체대면 할 것을 생각하니 피곤하지만 친구들만날 생각에 행복했다.\n",
    "학교사람들을 만나면 재밌다.\n",
    "빨리 졸업했으면 좋겠다.''')\n"
   ]
  },
  {
   "cell_type": "code",
   "execution_count": 5,
   "metadata": {},
   "outputs": [
    {
     "name": "stdout",
     "output_type": "stream",
     "text": [
      "긍정 0.49% / 부정 99.51%\n",
      "\n",
      "긍정 34.34% / 부정 65.66%\n",
      "\n"
     ]
    }
   ],
   "source": [
    "# 형석\n",
    "\n",
    "sentiment_predict('''\n",
    "프로젝트 3일차 계속 같은 기능만 구현하고 있는데 원하는대로 되지 않아 짜증이났다.\n",
    "어제까지 문제 없이 되었던 기능들 마저도 오류가 나서 더 짜증이 났다.\n",
    "우철쌤의 도움으로 해결되긴 했지만 앞으로 프로젝트를 잘 마무리 할 수 있을지 걱정이다.\n",
    "''')\n",
    "\n",
    "sentiment_predict('''\n",
    "프로젝트 3일차 계속 같은 기능을 구현하다보니 달인이 되었다.\n",
    "어제 해결했던 오류도 다시 한번 복습해보았다.\n",
    "풀리지 않던 오류도 우철쌤의 도움으로 해결되어 너무 행복하다.\n",
    "''')"
   ]
  },
  {
   "cell_type": "code",
   "execution_count": 9,
   "metadata": {},
   "outputs": [
    {
     "name": "stdout",
     "output_type": "stream",
     "text": [
      "긍정 0.77% / 부정 99.23%\n",
      "\n",
      "긍정 89.56% / 부정 10.44%\n",
      "\n"
     ]
    }
   ],
   "source": [
    "# 형석\n",
    "\n",
    "sentiment_predict('''\n",
    "취업 준비만 어느덧 1년째이다.\n",
    "아쉽게도 오늘 지원한 회사 역시 면접에서 떨어졌다.\n",
    "매번 면접에서 떨어져 내 자신에게 짜증나고 화가났다.\n",
    "나는 언제쯤 취업할 수 있을까?\n",
    "''')\n",
    "\n",
    "sentiment_predict('''\n",
    "취업을 하기 위해서 열심히 노력중이다.\n",
    "취업하고 싶은 회사에 아쉽게 면접에서 떨어졌지만 많은 것을 배울 수 있었다.\n",
    "다음에는 합격할 수 있을 거 같다.\n",
    "합격해 회사 다닐 상상을 하니 행복했다.\n",
    "''')"
   ]
  },
  {
   "cell_type": "code",
   "execution_count": 7,
   "metadata": {},
   "outputs": [
    {
     "name": "stdout",
     "output_type": "stream",
     "text": [
      "긍정 56.78% / 부정 43.22%\n",
      "\n",
      "긍정 56.78% / 부정 43.22%\n",
      "\n"
     ]
    }
   ],
   "source": [
    "# 청조\n",
    "\n",
    "sentiment_predict('''프로젝트 3일차.\n",
    "어제 자바스크립트의 늪에 빠졌다.\n",
    "앞이 보이지 않는 구렁속에 갇힌 느낌이었다. 나쁜 캐쉬...\n",
    "그러나 문제를 해결하고 나니 한줄기 빛이 보였고,\n",
    "차근차근 천천히 해 나가야 되겠다고 다짐했다. \n",
    "생각을 구체화 해 나가는 것은 어렵다. ''')\n",
    "\n",
    "sentiment_predict('''\n",
    "프로젝트 3일차.\n",
    "어제 자바스크립트의 늪에 빠졌다.\n",
    "앞이 보이지 않는 구렁속에 갇힌 느낌이었다. 나쁜 캐쉬...\n",
    "그러나 문제를 해결하고 나니 한줄기 빛이 보였고,\n",
    "차근차근 천천히 해 나가야 되겠다고 다짐했다. \n",
    "생각을 구체화 해 나가는 것은 어렵다.\n",
    "''')"
   ]
  },
  {
   "cell_type": "code",
   "execution_count": 8,
   "metadata": {},
   "outputs": [
    {
     "name": "stdout",
     "output_type": "stream",
     "text": [
      "긍정 93.53% / 부정 6.47%\n",
      "\n"
     ]
    }
   ],
   "source": [
    "# 윤서\n",
    "\n",
    "sentiment_predict('''\n",
    "오늘만 지나면 내일 쉴 생각에 행복하다.\n",
    "그런데 할 일이 많아서 생각보다 집에서도 푹 쉬지는 못하지만 맛있는 것도 먹고 힐링시간을 갖아서 체력을 충전시켜야겠다.\n",
    "그리고 현재 진행중인 프로젝트와 자격증 공부를 열심히 병행해서 이 과정이 수료할 쯤엔 모두 좋은 결과로 이어졌으면 좋겠다.\n",
    "''')"
   ]
  }
 ],
 "metadata": {
  "interpreter": {
   "hash": "4bfe9e07939e4c08359f7efa758f6a3cb7d7d492bb4a1089f52c253481390c90"
  },
  "kernelspec": {
   "display_name": "Python 3.8.13 ('dacon')",
   "language": "python",
   "name": "python3"
  },
  "language_info": {
   "codemirror_mode": {
    "name": "ipython",
    "version": 3
   },
   "file_extension": ".py",
   "mimetype": "text/x-python",
   "name": "python",
   "nbconvert_exporter": "python",
   "pygments_lexer": "ipython3",
   "version": "3.8.13"
  },
  "orig_nbformat": 4
 },
 "nbformat": 4,
 "nbformat_minor": 2
}
