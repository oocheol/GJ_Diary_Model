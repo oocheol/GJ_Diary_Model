{
 "cells": [
  {
   "cell_type": "markdown",
   "metadata": {},
   "source": [
    "### Flask 서버 구축"
   ]
  },
  {
   "cell_type": "code",
   "execution_count": 1,
   "metadata": {},
   "outputs": [],
   "source": [
    "import csv\n",
    "\n",
    "with open('X_train1.csv', 'r', encoding='utf-8-sig') as f: \n",
    "  rdr = csv.reader(f) \n",
    "  test = list(rdr)[0]\n",
    "\n",
    "test = list(test)\n",
    "for idx, i in enumerate(test):\n",
    "  test[idx] = i.strip('][').split(', ')\n",
    "\n",
    "for i in range(len(test)):\n",
    "  for j in range(len(test[i])):\n",
    "    test[i][j] = test[i][j][1:-1]"
   ]
  },
  {
   "cell_type": "code",
   "execution_count": 2,
   "metadata": {},
   "outputs": [
    {
     "name": "stdout",
     "output_type": "stream",
     "text": [
      " * Serving Flask app '__main__' (lazy loading)\n",
      " * Environment: production\n",
      "\u001b[31m   WARNING: This is a development server. Do not use it in a production deployment.\u001b[0m\n",
      "\u001b[2m   Use a production WSGI server instead.\u001b[0m\n",
      " * Debug mode: off\n"
     ]
    },
    {
     "name": "stderr",
     "output_type": "stream",
     "text": [
      " * Running on http://localhost:5000/ (Press CTRL+C to quit)\n"
     ]
    },
    {
     "data": {
      "text/plain": [
       "'다시 전체대면 할 것을 생각하니 피곤하지만 친구들만날 생각에 행복했다.\\r\\n학교사람들을 만나면 재밌다.\\r\\n빨리 졸업했으면 좋겠다.'"
      ]
     },
     "metadata": {},
     "output_type": "display_data"
    },
    {
     "name": "stderr",
     "output_type": "stream",
     "text": [
      "127.0.0.1 - - [16/May/2022 11:25:40] \"GET /GJDiaryService/predict0?diary=다시+전체대면+할+것을+생각하니+피곤하지만+친구들만날+생각에+행복했다.%0D%0A학교사람들을+만나면+재밌다.%0D%0A빨리+졸업했으면+좋겠다. HTTP/1.1\" 302 -\n"
     ]
    },
    {
     "name": "stdout",
     "output_type": "stream",
     "text": [
      "87.8\n"
     ]
    },
    {
     "data": {
      "text/plain": [
       "'test'"
      ]
     },
     "metadata": {},
     "output_type": "display_data"
    },
    {
     "name": "stderr",
     "output_type": "stream",
     "text": [
      "127.0.0.1 - - [16/May/2022 11:36:55] \"GET /GJDiaryService/predict0?diary=test HTTP/1.1\" 302 -\n"
     ]
    },
    {
     "name": "stdout",
     "output_type": "stream",
     "text": [
      "43.9\n"
     ]
    },
    {
     "data": {
      "text/plain": [
       "'tes0'"
      ]
     },
     "metadata": {},
     "output_type": "display_data"
    },
    {
     "name": "stderr",
     "output_type": "stream",
     "text": [
      "127.0.0.1 - - [16/May/2022 11:37:02] \"GET /GJDiaryService/predict1?diary=tes0 HTTP/1.1\" 302 -\n"
     ]
    },
    {
     "name": "stdout",
     "output_type": "stream",
     "text": [
      "43.9\n"
     ]
    },
    {
     "data": {
      "text/plain": [
       "'test.'"
      ]
     },
     "metadata": {},
     "output_type": "display_data"
    },
    {
     "name": "stderr",
     "output_type": "stream",
     "text": [
      "127.0.0.1 - - [16/May/2022 11:37:07] \"GET /GJDiaryService/predict2?diary=test. HTTP/1.1\" 302 -\n"
     ]
    },
    {
     "name": "stdout",
     "output_type": "stream",
     "text": [
      "43.9\n"
     ]
    },
    {
     "data": {
      "text/plain": [
       "'test'"
      ]
     },
     "metadata": {},
     "output_type": "display_data"
    },
    {
     "name": "stderr",
     "output_type": "stream",
     "text": [
      "127.0.0.1 - - [16/May/2022 11:37:13] \"GET /GJDiaryService/predict3?diary=test HTTP/1.1\" 302 -\n"
     ]
    },
    {
     "name": "stdout",
     "output_type": "stream",
     "text": [
      "43.9\n"
     ]
    },
    {
     "data": {
      "text/plain": [
       "'asd'"
      ]
     },
     "metadata": {},
     "output_type": "display_data"
    },
    {
     "name": "stderr",
     "output_type": "stream",
     "text": [
      "127.0.0.1 - - [16/May/2022 12:11:10] \"GET /GJDiaryService/predict0?diary=asd HTTP/1.1\" 302 -\n"
     ]
    },
    {
     "name": "stdout",
     "output_type": "stream",
     "text": [
      "43.9\n"
     ]
    },
    {
     "data": {
      "text/plain": [
       "'test'"
      ]
     },
     "metadata": {},
     "output_type": "display_data"
    },
    {
     "name": "stderr",
     "output_type": "stream",
     "text": [
      "127.0.0.1 - - [16/May/2022 12:11:13] \"GET /GJDiaryService/predict1?diary=test HTTP/1.1\" 302 -\n"
     ]
    },
    {
     "name": "stdout",
     "output_type": "stream",
     "text": [
      "43.9\n"
     ]
    },
    {
     "data": {
      "text/plain": [
       "'다시 전체대면 할 것을 생각하니 피곤하지만 친구들만날 생각에 행복했다.\\r\\n학교사람들을 만나면 재밌다.\\r\\n빨리 졸업했으면 좋겠다.'"
      ]
     },
     "metadata": {},
     "output_type": "display_data"
    },
    {
     "name": "stderr",
     "output_type": "stream",
     "text": [
      "127.0.0.1 - - [16/May/2022 12:17:43] \"GET /GJDiaryService/predict0?diary=다시+전체대면+할+것을+생각하니+피곤하지만+친구들만날+생각에+행복했다.%0D%0A학교사람들을+만나면+재밌다.%0D%0A빨리+졸업했으면+좋겠다. HTTP/1.1\" 302 -\n"
     ]
    },
    {
     "name": "stdout",
     "output_type": "stream",
     "text": [
      "87.8\n"
     ]
    },
    {
     "data": {
      "text/plain": [
       "'다시 전체대면 할 것을 생각하니 피곤하지만 친구들만날 생각에 행복했다.\\r\\n학교사람들을 만나면 재밌다.\\r\\n빨리 졸업했으면 좋겠다.'"
      ]
     },
     "metadata": {},
     "output_type": "display_data"
    },
    {
     "name": "stderr",
     "output_type": "stream",
     "text": [
      "127.0.0.1 - - [16/May/2022 12:17:47] \"GET /GJDiaryService/predict1?diary=다시+전체대면+할+것을+생각하니+피곤하지만+친구들만날+생각에+행복했다.%0D%0A학교사람들을+만나면+재밌다.%0D%0A빨리+졸업했으면+좋겠다. HTTP/1.1\" 302 -\n"
     ]
    },
    {
     "name": "stdout",
     "output_type": "stream",
     "text": [
      "87.8\n"
     ]
    },
    {
     "data": {
      "text/plain": [
       "'다시 전체대면 할 것을 생각하니 피곤하지만 친구들만날 생각에 행복했다.\\r\\n학교사람들을 만나면 재밌다.\\r\\n빨리 졸업했으면 좋겠다.'"
      ]
     },
     "metadata": {},
     "output_type": "display_data"
    },
    {
     "name": "stderr",
     "output_type": "stream",
     "text": [
      "127.0.0.1 - - [16/May/2022 12:17:53] \"GET /GJDiaryService/predict2?diary=다시+전체대면+할+것을+생각하니+피곤하지만+친구들만날+생각에+행복했다.%0D%0A학교사람들을+만나면+재밌다.%0D%0A빨리+졸업했으면+좋겠다. HTTP/1.1\" 302 -\n"
     ]
    },
    {
     "name": "stdout",
     "output_type": "stream",
     "text": [
      "87.8\n"
     ]
    },
    {
     "data": {
      "text/plain": [
       "'다시 전체대면 할 것을 생각하니 피곤하지만 친구들만날 생각에 행복했다.\\r\\n학교사람들을 만나면 재밌다.\\r\\n빨리 졸업했으면 좋겠다.'"
      ]
     },
     "metadata": {},
     "output_type": "display_data"
    },
    {
     "name": "stderr",
     "output_type": "stream",
     "text": [
      "127.0.0.1 - - [16/May/2022 12:18:15] \"GET /GJDiaryService/predict0?diary=다시+전체대면+할+것을+생각하니+피곤하지만+친구들만날+생각에+행복했다.%0D%0A학교사람들을+만나면+재밌다.%0D%0A빨리+졸업했으면+좋겠다. HTTP/1.1\" 302 -\n"
     ]
    },
    {
     "name": "stdout",
     "output_type": "stream",
     "text": [
      "87.8\n"
     ]
    },
    {
     "data": {
      "text/plain": [
       "'다시 전체대면 할 것을 생각하니 피곤하지만 친구들만날 생각에 행복했다.\\r\\n학교사람들을 만나면 재밌다.\\r\\n빨리 졸업했으면 좋겠다.'"
      ]
     },
     "metadata": {},
     "output_type": "display_data"
    },
    {
     "name": "stderr",
     "output_type": "stream",
     "text": [
      "127.0.0.1 - - [16/May/2022 12:18:18] \"GET /GJDiaryService/predict1?diary=다시+전체대면+할+것을+생각하니+피곤하지만+친구들만날+생각에+행복했다.%0D%0A학교사람들을+만나면+재밌다.%0D%0A빨리+졸업했으면+좋겠다. HTTP/1.1\" 302 -\n"
     ]
    },
    {
     "name": "stdout",
     "output_type": "stream",
     "text": [
      "87.8\n"
     ]
    },
    {
     "data": {
      "text/plain": [
       "'다시 전체대면 할 것을 생각하니 피곤하지만 친구들만날 생각에 행복했다.\\r\\n학교사람들을 만나면 재밌다.\\r\\n빨리 졸업했으면 좋겠다.'"
      ]
     },
     "metadata": {},
     "output_type": "display_data"
    },
    {
     "name": "stderr",
     "output_type": "stream",
     "text": [
      "127.0.0.1 - - [16/May/2022 12:18:52] \"GET /GJDiaryService/predict0?diary=다시+전체대면+할+것을+생각하니+피곤하지만+친구들만날+생각에+행복했다.%0D%0A학교사람들을+만나면+재밌다.%0D%0A빨리+졸업했으면+좋겠다. HTTP/1.1\" 302 -\n"
     ]
    },
    {
     "name": "stdout",
     "output_type": "stream",
     "text": [
      "87.8\n"
     ]
    },
    {
     "data": {
      "text/plain": [
       "'다시 전체대면 할 것을 생각하니 피곤하지만 친구들만날 생각에 행복했다.\\r\\n학교사람들을 만나면 재밌다.\\r\\n빨리 졸업했으면 좋겠다.'"
      ]
     },
     "metadata": {},
     "output_type": "display_data"
    },
    {
     "name": "stderr",
     "output_type": "stream",
     "text": [
      "127.0.0.1 - - [16/May/2022 12:19:01] \"GET /GJDiaryService/predict1?diary=다시+전체대면+할+것을+생각하니+피곤하지만+친구들만날+생각에+행복했다.%0D%0A학교사람들을+만나면+재밌다.%0D%0A빨리+졸업했으면+좋겠다. HTTP/1.1\" 302 -\n"
     ]
    },
    {
     "name": "stdout",
     "output_type": "stream",
     "text": [
      "87.8\n"
     ]
    },
    {
     "data": {
      "text/plain": [
       "'다시 전체대면 할 것을 생각하니 피곤하지만 친구들만날 생각에 행복했다.\\r\\n학교사람들을 만나면 재밌다.\\r\\n빨리 졸업했으면 좋겠다.'"
      ]
     },
     "metadata": {},
     "output_type": "display_data"
    },
    {
     "name": "stderr",
     "output_type": "stream",
     "text": [
      "127.0.0.1 - - [16/May/2022 12:20:29] \"GET /GJDiaryService/predict0?diary=다시+전체대면+할+것을+생각하니+피곤하지만+친구들만날+생각에+행복했다.%0D%0A학교사람들을+만나면+재밌다.%0D%0A빨리+졸업했으면+좋겠다. HTTP/1.1\" 302 -\n"
     ]
    },
    {
     "name": "stdout",
     "output_type": "stream",
     "text": [
      "87.8\n"
     ]
    },
    {
     "data": {
      "text/plain": [
       "'다시 전체대면 할 것을 생각하니 피곤하지만 친구들만날 생각에 행복했다.\\r\\n학교사람들을 만나면 재밌다.\\r\\n빨리 졸업했으면 좋겠다.'"
      ]
     },
     "metadata": {},
     "output_type": "display_data"
    },
    {
     "name": "stderr",
     "output_type": "stream",
     "text": [
      "127.0.0.1 - - [16/May/2022 12:20:32] \"GET /GJDiaryService/predict1?diary=다시+전체대면+할+것을+생각하니+피곤하지만+친구들만날+생각에+행복했다.%0D%0A학교사람들을+만나면+재밌다.%0D%0A빨리+졸업했으면+좋겠다. HTTP/1.1\" 302 -\n"
     ]
    },
    {
     "name": "stdout",
     "output_type": "stream",
     "text": [
      "87.8\n"
     ]
    },
    {
     "data": {
      "text/plain": [
       "''"
      ]
     },
     "metadata": {},
     "output_type": "display_data"
    },
    {
     "name": "stderr",
     "output_type": "stream",
     "text": [
      "127.0.0.1 - - [16/May/2022 15:11:39] \"GET /GJDiaryService/predict0?diary= HTTP/1.1\" 302 -\n"
     ]
    },
    {
     "name": "stdout",
     "output_type": "stream",
     "text": [
      "43.9\n"
     ]
    },
    {
     "data": {
      "text/plain": [
       "''"
      ]
     },
     "metadata": {},
     "output_type": "display_data"
    },
    {
     "name": "stderr",
     "output_type": "stream",
     "text": [
      "127.0.0.1 - - [16/May/2022 15:11:51] \"GET /GJDiaryService/predict0?diary= HTTP/1.1\" 302 -\n"
     ]
    },
    {
     "name": "stdout",
     "output_type": "stream",
     "text": [
      "43.9\n"
     ]
    },
    {
     "data": {
      "text/plain": [
       "''"
      ]
     },
     "metadata": {},
     "output_type": "display_data"
    },
    {
     "name": "stderr",
     "output_type": "stream",
     "text": [
      "127.0.0.1 - - [16/May/2022 15:13:14] \"GET /GJDiaryService/predict0?diary= HTTP/1.1\" 302 -\n"
     ]
    },
    {
     "name": "stdout",
     "output_type": "stream",
     "text": [
      "43.9\n"
     ]
    },
    {
     "data": {
      "text/plain": [
       "''"
      ]
     },
     "metadata": {},
     "output_type": "display_data"
    },
    {
     "name": "stderr",
     "output_type": "stream",
     "text": [
      "127.0.0.1 - - [16/May/2022 15:13:22] \"GET /GJDiaryService/predict0?diary= HTTP/1.1\" 302 -\n"
     ]
    },
    {
     "name": "stdout",
     "output_type": "stream",
     "text": [
      "43.9\n"
     ]
    },
    {
     "data": {
      "text/plain": [
       "'te'"
      ]
     },
     "metadata": {},
     "output_type": "display_data"
    },
    {
     "name": "stderr",
     "output_type": "stream",
     "text": [
      "127.0.0.1 - - [16/May/2022 15:13:32] \"GET /GJDiaryService/predict0?diary=te HTTP/1.1\" 302 -\n"
     ]
    },
    {
     "name": "stdout",
     "output_type": "stream",
     "text": [
      "43.9\n"
     ]
    },
    {
     "data": {
      "text/plain": [
       "'te'"
      ]
     },
     "metadata": {},
     "output_type": "display_data"
    },
    {
     "name": "stderr",
     "output_type": "stream",
     "text": [
      "127.0.0.1 - - [16/May/2022 15:13:39] \"GET /GJDiaryService/predict0?diary=te HTTP/1.1\" 302 -\n"
     ]
    },
    {
     "name": "stdout",
     "output_type": "stream",
     "text": [
      "43.9\n"
     ]
    },
    {
     "data": {
      "text/plain": [
       "'test'"
      ]
     },
     "metadata": {},
     "output_type": "display_data"
    },
    {
     "name": "stderr",
     "output_type": "stream",
     "text": [
      "127.0.0.1 - - [16/May/2022 15:14:02] \"GET /GJDiaryService/predict0?diary=test HTTP/1.1\" 302 -\n"
     ]
    },
    {
     "name": "stdout",
     "output_type": "stream",
     "text": [
      "43.9\n"
     ]
    },
    {
     "data": {
      "text/plain": [
       "'test'"
      ]
     },
     "metadata": {},
     "output_type": "display_data"
    },
    {
     "name": "stderr",
     "output_type": "stream",
     "text": [
      "127.0.0.1 - - [16/May/2022 15:16:59] \"GET /GJDiaryService/predict0?diary=test HTTP/1.1\" 302 -\n"
     ]
    },
    {
     "name": "stdout",
     "output_type": "stream",
     "text": [
      "43.9\n"
     ]
    },
    {
     "data": {
      "text/plain": [
       "'test'"
      ]
     },
     "metadata": {},
     "output_type": "display_data"
    },
    {
     "name": "stderr",
     "output_type": "stream",
     "text": [
      "127.0.0.1 - - [16/May/2022 15:18:42] \"GET /GJDiaryService/predict0?diary=test HTTP/1.1\" 302 -\n"
     ]
    },
    {
     "name": "stdout",
     "output_type": "stream",
     "text": [
      "43.9\n"
     ]
    },
    {
     "data": {
      "text/plain": [
       "''"
      ]
     },
     "metadata": {},
     "output_type": "display_data"
    },
    {
     "name": "stderr",
     "output_type": "stream",
     "text": [
      "127.0.0.1 - - [16/May/2022 15:22:47] \"GET /GJDiaryService/predict0?diary= HTTP/1.1\" 302 -\n"
     ]
    },
    {
     "name": "stdout",
     "output_type": "stream",
     "text": [
      "43.9\n"
     ]
    },
    {
     "data": {
      "text/plain": [
       "''"
      ]
     },
     "metadata": {},
     "output_type": "display_data"
    },
    {
     "name": "stderr",
     "output_type": "stream",
     "text": [
      "127.0.0.1 - - [16/May/2022 15:30:17] \"GET /GJDiaryService/predict0?diary= HTTP/1.1\" 302 -\n"
     ]
    },
    {
     "name": "stdout",
     "output_type": "stream",
     "text": [
      "43.9\n"
     ]
    },
    {
     "data": {
      "text/plain": [
       "'ㅅㄷㄴㅅ'"
      ]
     },
     "metadata": {},
     "output_type": "display_data"
    },
    {
     "name": "stderr",
     "output_type": "stream",
     "text": [
      "127.0.0.1 - - [16/May/2022 15:33:21] \"GET /GJDiaryService/predict0?diary=ㅅㄷㄴㅅ HTTP/1.1\" 302 -\n"
     ]
    },
    {
     "name": "stdout",
     "output_type": "stream",
     "text": [
      "43.9\n"
     ]
    },
    {
     "data": {
      "text/plain": [
       "'test1'"
      ]
     },
     "metadata": {},
     "output_type": "display_data"
    },
    {
     "name": "stderr",
     "output_type": "stream",
     "text": [
      "127.0.0.1 - - [16/May/2022 15:33:53] \"GET /GJDiaryService/predict0?diary=test1 HTTP/1.1\" 302 -\n"
     ]
    },
    {
     "name": "stdout",
     "output_type": "stream",
     "text": [
      "43.9\n"
     ]
    },
    {
     "data": {
      "text/plain": [
       "'test2'"
      ]
     },
     "metadata": {},
     "output_type": "display_data"
    },
    {
     "name": "stderr",
     "output_type": "stream",
     "text": [
      "127.0.0.1 - - [16/May/2022 15:34:00] \"GET /GJDiaryService/predict1?diary=test2 HTTP/1.1\" 302 -\n"
     ]
    },
    {
     "name": "stdout",
     "output_type": "stream",
     "text": [
      "43.9\n"
     ]
    },
    {
     "data": {
      "text/plain": [
       "'test'"
      ]
     },
     "metadata": {},
     "output_type": "display_data"
    },
    {
     "name": "stderr",
     "output_type": "stream",
     "text": [
      "127.0.0.1 - - [16/May/2022 15:34:29] \"GET /GJDiaryService/predict0?diary=test HTTP/1.1\" 302 -\n"
     ]
    },
    {
     "name": "stdout",
     "output_type": "stream",
     "text": [
      "43.9\n"
     ]
    },
    {
     "data": {
      "text/plain": [
       "'test3'"
      ]
     },
     "metadata": {},
     "output_type": "display_data"
    },
    {
     "name": "stderr",
     "output_type": "stream",
     "text": [
      "127.0.0.1 - - [16/May/2022 15:34:44] \"GET /GJDiaryService/predict1?diary=test3 HTTP/1.1\" 302 -\n"
     ]
    },
    {
     "name": "stdout",
     "output_type": "stream",
     "text": [
      "43.9\n"
     ]
    },
    {
     "data": {
      "text/plain": [
       "'test0'"
      ]
     },
     "metadata": {},
     "output_type": "display_data"
    },
    {
     "name": "stderr",
     "output_type": "stream",
     "text": [
      "127.0.0.1 - - [16/May/2022 16:12:25] \"GET /GJDiaryService/predict0?diary=test0 HTTP/1.1\" 302 -\n"
     ]
    },
    {
     "name": "stdout",
     "output_type": "stream",
     "text": [
      "43.9\n"
     ]
    },
    {
     "data": {
      "text/plain": [
       "'test1'"
      ]
     },
     "metadata": {},
     "output_type": "display_data"
    },
    {
     "name": "stderr",
     "output_type": "stream",
     "text": [
      "127.0.0.1 - - [16/May/2022 16:12:29] \"GET /GJDiaryService/predict1?diary=test1 HTTP/1.1\" 302 -\n"
     ]
    },
    {
     "name": "stdout",
     "output_type": "stream",
     "text": [
      "43.9\n"
     ]
    },
    {
     "data": {
      "text/plain": [
       "'test2'"
      ]
     },
     "metadata": {},
     "output_type": "display_data"
    },
    {
     "name": "stderr",
     "output_type": "stream",
     "text": [
      "127.0.0.1 - - [16/May/2022 16:12:33] \"GET /GJDiaryService/predict2?diary=test2 HTTP/1.1\" 302 -\n"
     ]
    },
    {
     "name": "stdout",
     "output_type": "stream",
     "text": [
      "43.9\n"
     ]
    },
    {
     "data": {
      "text/plain": [
       "'test3'"
      ]
     },
     "metadata": {},
     "output_type": "display_data"
    },
    {
     "name": "stderr",
     "output_type": "stream",
     "text": [
      "127.0.0.1 - - [16/May/2022 16:12:37] \"GET /GJDiaryService/predict3?diary=test3 HTTP/1.1\" 302 -\n"
     ]
    },
    {
     "name": "stdout",
     "output_type": "stream",
     "text": [
      "43.9\n"
     ]
    },
    {
     "data": {
      "text/plain": [
       "'test00'"
      ]
     },
     "metadata": {},
     "output_type": "display_data"
    },
    {
     "name": "stderr",
     "output_type": "stream",
     "text": [
      "127.0.0.1 - - [16/May/2022 16:16:18] \"GET /GJDiaryService/predict0?diary=test00 HTTP/1.1\" 302 -\n"
     ]
    },
    {
     "name": "stdout",
     "output_type": "stream",
     "text": [
      "43.9\n"
     ]
    },
    {
     "data": {
      "text/plain": [
       "'test11'"
      ]
     },
     "metadata": {},
     "output_type": "display_data"
    },
    {
     "name": "stderr",
     "output_type": "stream",
     "text": [
      "127.0.0.1 - - [16/May/2022 16:16:23] \"GET /GJDiaryService/predict1?diary=test11 HTTP/1.1\" 302 -\n"
     ]
    },
    {
     "name": "stdout",
     "output_type": "stream",
     "text": [
      "43.9\n"
     ]
    },
    {
     "data": {
      "text/plain": [
       "'test22'"
      ]
     },
     "metadata": {},
     "output_type": "display_data"
    },
    {
     "name": "stderr",
     "output_type": "stream",
     "text": [
      "127.0.0.1 - - [16/May/2022 16:16:27] \"GET /GJDiaryService/predict2?diary=test22 HTTP/1.1\" 302 -\n"
     ]
    },
    {
     "name": "stdout",
     "output_type": "stream",
     "text": [
      "43.9\n"
     ]
    },
    {
     "data": {
      "text/plain": [
       "'test33'"
      ]
     },
     "metadata": {},
     "output_type": "display_data"
    },
    {
     "name": "stderr",
     "output_type": "stream",
     "text": [
      "127.0.0.1 - - [16/May/2022 16:16:31] \"GET /GJDiaryService/predict3?diary=test33 HTTP/1.1\" 302 -\n"
     ]
    },
    {
     "name": "stdout",
     "output_type": "stream",
     "text": [
      "43.9\n"
     ]
    },
    {
     "data": {
      "text/plain": [
       "'test0'"
      ]
     },
     "metadata": {},
     "output_type": "display_data"
    },
    {
     "name": "stderr",
     "output_type": "stream",
     "text": [
      "127.0.0.1 - - [16/May/2022 16:18:34] \"GET /GJDiaryService/predict0?diary=test0 HTTP/1.1\" 302 -\n"
     ]
    },
    {
     "name": "stdout",
     "output_type": "stream",
     "text": [
      "43.9\n"
     ]
    },
    {
     "data": {
      "text/plain": [
       "'test1'"
      ]
     },
     "metadata": {},
     "output_type": "display_data"
    },
    {
     "name": "stderr",
     "output_type": "stream",
     "text": [
      "127.0.0.1 - - [16/May/2022 16:18:37] \"GET /GJDiaryService/predict1?diary=test1 HTTP/1.1\" 302 -\n"
     ]
    },
    {
     "name": "stdout",
     "output_type": "stream",
     "text": [
      "43.9\n"
     ]
    },
    {
     "data": {
      "text/plain": [
       "'test2'"
      ]
     },
     "metadata": {},
     "output_type": "display_data"
    },
    {
     "name": "stderr",
     "output_type": "stream",
     "text": [
      "127.0.0.1 - - [16/May/2022 16:18:41] \"GET /GJDiaryService/predict2?diary=test2 HTTP/1.1\" 302 -\n"
     ]
    },
    {
     "name": "stdout",
     "output_type": "stream",
     "text": [
      "43.9\n"
     ]
    },
    {
     "data": {
      "text/plain": [
       "'test3'"
      ]
     },
     "metadata": {},
     "output_type": "display_data"
    },
    {
     "name": "stderr",
     "output_type": "stream",
     "text": [
      "127.0.0.1 - - [16/May/2022 16:18:44] \"GET /GJDiaryService/predict3?diary=test3 HTTP/1.1\" 302 -\n"
     ]
    },
    {
     "name": "stdout",
     "output_type": "stream",
     "text": [
      "43.9\n"
     ]
    },
    {
     "data": {
      "text/plain": [
       "'안녕하세요'"
      ]
     },
     "metadata": {},
     "output_type": "display_data"
    },
    {
     "name": "stderr",
     "output_type": "stream",
     "text": [
      "127.0.0.1 - - [16/May/2022 16:21:02] \"GET /GJDiaryService/predict0?diary=안녕하세요 HTTP/1.1\" 302 -\n"
     ]
    },
    {
     "name": "stdout",
     "output_type": "stream",
     "text": [
      "25.0\n"
     ]
    },
    {
     "data": {
      "text/plain": [
       "'반갑습니다'"
      ]
     },
     "metadata": {},
     "output_type": "display_data"
    },
    {
     "name": "stderr",
     "output_type": "stream",
     "text": [
      "127.0.0.1 - - [16/May/2022 16:21:09] \"GET /GJDiaryService/predict1?diary=반갑습니다 HTTP/1.1\" 302 -\n"
     ]
    },
    {
     "name": "stdout",
     "output_type": "stream",
     "text": [
      "76.7\n"
     ]
    },
    {
     "data": {
      "text/plain": [
       "'감사합니다'"
      ]
     },
     "metadata": {},
     "output_type": "display_data"
    },
    {
     "name": "stderr",
     "output_type": "stream",
     "text": [
      "127.0.0.1 - - [16/May/2022 16:21:20] \"GET /GJDiaryService/predict2?diary=감사합니다 HTTP/1.1\" 302 -\n"
     ]
    },
    {
     "name": "stdout",
     "output_type": "stream",
     "text": [
      "94.3\n"
     ]
    },
    {
     "data": {
      "text/plain": [
       "'안녕히계세요'"
      ]
     },
     "metadata": {},
     "output_type": "display_data"
    },
    {
     "name": "stderr",
     "output_type": "stream",
     "text": [
      "127.0.0.1 - - [16/May/2022 16:21:29] \"GET /GJDiaryService/predict3?diary=안녕히계세요 HTTP/1.1\" 302 -\n"
     ]
    },
    {
     "name": "stdout",
     "output_type": "stream",
     "text": [
      "25.0\n"
     ]
    }
   ],
   "source": [
    "from flask import Flask # 플라스크 클래스 임포트\n",
    "from flask import request, redirect, Request, Response\n",
    "import pickle # 데이터 저장/로딩을 위한 모듈\n",
    "import pandas as pd\n",
    "import numpy as np\n",
    "app = Flask(__name__) # 내장변수 name을 이용해 서버를 구동시키는 객체 생성\n",
    "\n",
    "from tensorflow.keras.models import load_model\n",
    "import re\n",
    "from konlpy.tag import Okt\n",
    "from tensorflow.keras.preprocessing.text import Tokenizer\n",
    "from tensorflow.keras.preprocessing.sequence import pad_sequences\n",
    "import time\n",
    "\n",
    "#한글 지원 방법\n",
    "import os\n",
    "\n",
    "# model = keras.models.load_model(\"model.h5\")\n",
    "loaded_model = load_model('best_model.h5')\n",
    "okt = Okt()\n",
    "stopwords = ['의','가','이','은','들','는','좀','잘','걍','과','도','를','으로','자','에','와','한','하다']\n",
    "tokenizer = Tokenizer(19416)\n",
    "tokenizer.fit_on_texts(test)\n",
    "max_len = 30\n",
    "\n",
    "def sentiment_predict(new_sentence):\n",
    "  new_sentence = re.sub(r'[^ㄱ-ㅎㅏ-ㅣ가-힣 ]','', new_sentence)\n",
    "  new_sentence = okt.morphs(new_sentence, stem=True) # 토큰화\n",
    "  new_sentence = [word for word in new_sentence if not word in stopwords] # 불용어 제거\n",
    "  encoded = tokenizer.texts_to_sequences([new_sentence]) # 정수 인코딩\n",
    "  pad_new = pad_sequences(encoded, maxlen = max_len) # 패딩\n",
    "  score = float(loaded_model.predict(pad_new)) # 예측\n",
    "  \n",
    "  return score\n",
    "\n",
    "@app.route(\"/GJDiaryService/predict0\", methods=[\"GET\",'POST'])\n",
    "def predict0() :\n",
    "    if request.method == 'GET' :\n",
    "        display(request.args.get(\"diary\")) #사용자가 사용하고 있는 페이지에거 post 방식으로 값을넘겨준다면 form 태그 안에 값으로 넘겨주고 받는다\n",
    "        # 넘어온 값을 전처리\n",
    "        diary = request.args.get(\"diary\")\n",
    "        pre = round(sentiment_predict(diary)*100,1)\n",
    "        print(str(pre))\n",
    "        #flask 에서 예측값(모델 실행후의 결과)를 result.jsp 페이지로 넘긴다 예측값은 url(쿼리스트링 방식 사용)\n",
    "        \n",
    "        # resp = Response(str(pre), mimetype='text/html')\n",
    "        # # # cross 도메인 이슈를 해결하기위해 응답 헤더 추가\n",
    "        # resp.headers['Access-Control-Allow-Origin'] = '*'\n",
    "        # return resp\n",
    "\n",
    "        return redirect(\"http://localhost:8081/Diary/diary_chart.jsp?good=\"+str(pre))\n",
    "    else :\n",
    "        # 넘어온 값을 전처리\n",
    "        diary = request.form.get('diary')\n",
    "        pre = round(sentiment_predict(diary),1)\n",
    "        print(\"get\" + str(pre[0]))\n",
    "        return \"get\"\n",
    "\n",
    "@app.route(\"/GJDiaryService/predict1\", methods=[\"GET\",'POST'])\n",
    "def predict1() :\n",
    "    if request.method == 'GET' :\n",
    "        display(request.args.get(\"diary\")) \n",
    "\n",
    "        diary = request.args.get(\"diary\")\n",
    "        pre = round(sentiment_predict(diary)*100,1)\n",
    "        print(str(pre))\n",
    "\n",
    "        return redirect(\"http://localhost:8081/Diary/change1_chart.jsp?good=\"+str(pre))\n",
    "    else :\n",
    "        diary = request.form.get('diary')\n",
    "        pre = round(sentiment_predict(diary),1)\n",
    "        print(\"get\" + str(pre[0]))\n",
    "        return \"get\"\n",
    "\n",
    "@app.route(\"/GJDiaryService/predict2\", methods=[\"GET\",'POST'])\n",
    "def predict2() :\n",
    "    if request.method == 'GET' :\n",
    "        display(request.args.get(\"diary\")) \n",
    "\n",
    "        diary = request.args.get(\"diary\")\n",
    "        pre = round(sentiment_predict(diary)*100,1)\n",
    "        print(str(pre))\n",
    "\n",
    "        return redirect(\"http://localhost:8081/Diary/change2_chart.jsp?good=\"+str(pre))\n",
    "    else :\n",
    "        diary = request.form.get('diary')\n",
    "        pre = round(sentiment_predict(diary),1)\n",
    "        print(\"get\" + str(pre[0]))\n",
    "        return \"get\"\n",
    "\n",
    "@app.route(\"/GJDiaryService/predict3\", methods=[\"GET\",'POST'])\n",
    "def predict3() :\n",
    "    if request.method == 'GET' :\n",
    "        display(request.args.get(\"diary\")) \n",
    "\n",
    "        diary = request.args.get(\"diary\")\n",
    "        pre = round(sentiment_predict(diary)*100,1)\n",
    "        print(str(pre))\n",
    "\n",
    "        return redirect(\"http://localhost:8081/Diary/change3_chart.jsp?good=\"+str(pre))\n",
    "    else :\n",
    "        diary = request.form.get('diary')\n",
    "        pre = round(sentiment_predict(diary),1)\n",
    "        print(\"get\" + str(pre[0]))\n",
    "        return \"get\"\n",
    "\n",
    "\n",
    "if __name__ == \"__main__\" : # .py 파일에서 main함수 역할\n",
    "    app.run(host=\"localhost\", port=\"5000\")"
   ]
  },
  {
   "cell_type": "code",
   "execution_count": null,
   "metadata": {},
   "outputs": [
    {
     "name": "stdout",
     "output_type": "stream",
     "text": [
      " * Serving Flask app '__main__' (lazy loading)\n",
      " * Environment: production\n",
      "\u001b[31m   WARNING: This is a development server. Do not use it in a production deployment.\u001b[0m\n",
      "\u001b[2m   Use a production WSGI server instead.\u001b[0m\n",
      " * Debug mode: off\n"
     ]
    },
    {
     "name": "stderr",
     "output_type": "stream",
     "text": [
      " * Running on http://localhost:5000/ (Press CTRL+C to quit)\n"
     ]
    },
    {
     "data": {
      "text/plain": [
       "'프로젝트 3일차 계속 같은 기능만 구현하고 있는데 원하는대로 되지 않아 짜증이났다.\\r\\n어제까지 문제 없이 되었던 기능들 마저도 오류가 나서 더 짜증이 났다.\\r\\n우철쌤의 도움으로 해결되긴 했지만 앞으로 프로젝트를 잘 마무리 할 수 있을지 걱정이다.'"
      ]
     },
     "metadata": {},
     "output_type": "display_data"
    },
    {
     "name": "stderr",
     "output_type": "stream",
     "text": [
      "127.0.0.1 - - [16/May/2022 10:20:05] \"GET /GJDiaryService/predict0?diary=프로젝트+3일차+계속+같은+기능만+구현하고+있는데+원하는대로+되지+않아+짜증이났다.%0D%0A어제까지+문제+없이+되었던+기능들+마저도+오류가+나서+더+짜증이+났다.%0D%0A우철쌤의+도움으로+해결되긴+했지만+앞으로+프로젝트를+잘+마무리+할+수+있을지+걱정이다. HTTP/1.1\" 302 -\n"
     ]
    },
    {
     "name": "stdout",
     "output_type": "stream",
     "text": [
      "0.5\n"
     ]
    },
    {
     "data": {
      "text/plain": [
       "''"
      ]
     },
     "metadata": {},
     "output_type": "display_data"
    },
    {
     "name": "stderr",
     "output_type": "stream",
     "text": [
      "127.0.0.1 - - [16/May/2022 10:20:20] \"GET /GJDiaryService/predict1?diary= HTTP/1.1\" 302 -\n"
     ]
    },
    {
     "name": "stdout",
     "output_type": "stream",
     "text": [
      "43.9\n"
     ]
    },
    {
     "data": {
      "text/plain": [
       "'프로젝트 3일차 계속 같은 기능을 구현하다보니 달인이 되었다.\\r\\n어제 해결했던 오류도 다시 한번 복습해보았다.\\r\\n풀리지 않던 오류도 우철쌤의 도움으로 해결되어 너무 행복하다.'"
      ]
     },
     "metadata": {},
     "output_type": "display_data"
    },
    {
     "name": "stderr",
     "output_type": "stream",
     "text": [
      "127.0.0.1 - - [16/May/2022 10:20:33] \"GET /GJDiaryService/predict1?diary=프로젝트+3일차+계속+같은+기능을+구현하다보니+달인이+되었다.%0D%0A어제+해결했던+오류도+다시+한번+복습해보았다.%0D%0A풀리지+않던+오류도+우철쌤의+도움으로+해결되어+너무+행복하다. HTTP/1.1\" 302 -\n"
     ]
    },
    {
     "name": "stdout",
     "output_type": "stream",
     "text": [
      "34.3\n"
     ]
    },
    {
     "data": {
      "text/plain": [
       "''"
      ]
     },
     "metadata": {},
     "output_type": "display_data"
    },
    {
     "name": "stderr",
     "output_type": "stream",
     "text": [
      "127.0.0.1 - - [16/May/2022 10:20:45] \"GET /GJDiaryService/predict2?diary= HTTP/1.1\" 302 -\n"
     ]
    },
    {
     "name": "stdout",
     "output_type": "stream",
     "text": [
      "43.9\n"
     ]
    },
    {
     "data": {
      "text/plain": [
       "'asd'"
      ]
     },
     "metadata": {},
     "output_type": "display_data"
    },
    {
     "name": "stderr",
     "output_type": "stream",
     "text": [
      "127.0.0.1 - - [16/May/2022 10:20:48] \"GET /GJDiaryService/predict2?diary=asd HTTP/1.1\" 302 -\n"
     ]
    },
    {
     "name": "stdout",
     "output_type": "stream",
     "text": [
      "43.9\n"
     ]
    },
    {
     "data": {
      "text/plain": [
       "'프로젝트 3일차 계속 같은 기능만 구현하고 있는데 원하는대로 되지 않아 짜증이났다.\\r\\n어제까지 문제 없이 되었던 기능들 마저도 오류가 나서 더 짜증이 났다.\\r\\n우철쌤의 도움으로 해결되긴 했지만 앞으로 프로젝트를 잘 마무리 할 수 있을지 걱정이다.'"
      ]
     },
     "metadata": {},
     "output_type": "display_data"
    },
    {
     "name": "stderr",
     "output_type": "stream",
     "text": [
      "127.0.0.1 - - [16/May/2022 10:22:37] \"GET /GJDiaryService/predict0?diary=프로젝트+3일차+계속+같은+기능만+구현하고+있는데+원하는대로+되지+않아+짜증이났다.%0D%0A어제까지+문제+없이+되었던+기능들+마저도+오류가+나서+더+짜증이+났다.%0D%0A우철쌤의+도움으로+해결되긴+했지만+앞으로+프로젝트를+잘+마무리+할+수+있을지+걱정이다. HTTP/1.1\" 302 -\n"
     ]
    },
    {
     "name": "stdout",
     "output_type": "stream",
     "text": [
      "0.5\n"
     ]
    }
   ],
   "source": [
    "# from flask import Flask # 플라스크 클래스 임포트\n",
    "# from flask import request, redirect, Request, Response\n",
    "# import pickle # 데이터 저장/로딩을 위한 모듈\n",
    "# import pandas as pd\n",
    "# import numpy as np\n",
    "# app = Flask(__name__) # 내장변수 name을 이용해 서버를 구동시키는 객체 생성\n",
    "\n",
    "# from tensorflow.keras.models import load_model\n",
    "# import re\n",
    "# from konlpy.tag import Okt\n",
    "# from tensorflow.keras.preprocessing.text import Tokenizer\n",
    "# from tensorflow.keras.preprocessing.sequence import pad_sequences\n",
    "# import time\n",
    "\n",
    "# #한글 지원 방법\n",
    "# import os\n",
    "\n",
    "# # model = keras.models.load_model(\"model.h5\")\n",
    "# loaded_model = load_model('best_model.h5')\n",
    "# okt = Okt()\n",
    "# stopwords = ['의','가','이','은','들','는','좀','잘','걍','과','도','를','으로','자','에','와','한','하다']\n",
    "# tokenizer = Tokenizer(19416)\n",
    "# tokenizer.fit_on_texts(test)\n",
    "# max_len = 30\n",
    "\n",
    "# def sentiment_predict(new_sentence):\n",
    "#   new_sentence = re.sub(r'[^ㄱ-ㅎㅏ-ㅣ가-힣 ]','', new_sentence)\n",
    "#   new_sentence = okt.morphs(new_sentence, stem=True) # 토큰화\n",
    "#   new_sentence = [word for word in new_sentence if not word in stopwords] # 불용어 제거\n",
    "#   encoded = tokenizer.texts_to_sequences([new_sentence]) # 정수 인코딩\n",
    "#   pad_new = pad_sequences(encoded, maxlen = max_len) # 패딩\n",
    "#   score = float(loaded_model.predict(pad_new)) # 예측\n",
    "  \n",
    "#   return score\n",
    "\n",
    "# @app.route(\"/GJDiaryService/predict0\", methods=[\"GET\",'POST'])\n",
    "# def predict0() :\n",
    "#     if request.method == 'GET' :\n",
    "#         display(request.args.get(\"diary\")) #사용자가 사용하고 있는 페이지에거 post 방식으로 값을넘겨준다면 form 태그 안에 값으로 넘겨주고 받는다\n",
    "#         # 넘어온 값을 전처리\n",
    "#         diary = request.args.get(\"diary\")\n",
    "#         pre = round(sentiment_predict(diary)*100,1)\n",
    "#         print(str(pre))\n",
    "#         #flask 에서 예측값(모델 실행후의 결과)를 result.jsp 페이지로 넘긴다 예측값은 url(쿼리스트링 방식 사용)\n",
    "        \n",
    "#         # resp = Response(str(pre), mimetype='text/html')\n",
    "#         # # # cross 도메인 이슈를 해결하기위해 응답 헤더 추가\n",
    "#         # resp.headers['Access-Control-Allow-Origin'] = '*'\n",
    "#         # return resp\n",
    "\n",
    "#         return redirect(\"http://localhost:8081/test3/calcul_main.jsp?good=\"+str(pre))\n",
    "#     else :\n",
    "#         # 넘어온 값을 전처리\n",
    "#         diary = request.form.get('diary')\n",
    "#         pre = round(sentiment_predict(diary),1)\n",
    "#         print(\"get\" + str(pre[0]))\n",
    "#         return \"get\"\n",
    "\n",
    "# @app.route(\"/GJDiaryService/predict1\", methods=[\"GET\",'POST'])\n",
    "# def predict1() :\n",
    "#     if request.method == 'GET' :\n",
    "#         display(request.args.get(\"diary\")) \n",
    "\n",
    "#         diary = request.args.get(\"diary\")\n",
    "#         pre = round(sentiment_predict(diary)*100,1)\n",
    "#         print(str(pre))\n",
    "\n",
    "#         return redirect(\"http://localhost:8081/test3/calur_change_chart1.jsp?good=\"+str(pre))\n",
    "#     else :\n",
    "#         diary = request.form.get('diary')\n",
    "#         pre = round(sentiment_predict(diary),1)\n",
    "#         print(\"get\" + str(pre[0]))\n",
    "#         return \"get\"\n",
    "\n",
    "# @app.route(\"/GJDiaryService/predict2\", methods=[\"GET\",'POST'])\n",
    "# def predict2() :\n",
    "#     if request.method == 'GET' :\n",
    "#         display(request.args.get(\"diary\")) \n",
    "\n",
    "#         diary = request.args.get(\"diary\")\n",
    "#         pre = round(sentiment_predict(diary)*100,1)\n",
    "#         print(str(pre))\n",
    "\n",
    "#         return redirect(\"http://localhost:8081/test3/Diarycalur_change_chart2.jsp?good=\"+str(pre))\n",
    "#     else :\n",
    "#         diary = request.form.get('diary')\n",
    "#         pre = round(sentiment_predict(diary),1)\n",
    "#         print(\"get\" + str(pre[0]))\n",
    "#         return \"get\"\n",
    "\n",
    "# @app.route(\"/GJDiaryService/predict3\", methods=[\"GET\",'POST'])\n",
    "# def predict3() :\n",
    "#     if request.method == 'GET' :\n",
    "#         display(request.args.get(\"diary\")) \n",
    "\n",
    "#         diary = request.args.get(\"diary\")\n",
    "#         pre = round(sentiment_predict(diary)*100,1)\n",
    "#         print(str(pre))\n",
    "\n",
    "#         return redirect(\"http://localhost:8081/test3/calur_change_chart3.jsp?good=\"+str(pre))\n",
    "#     else :\n",
    "#         diary = request.form.get('diary')\n",
    "#         pre = round(sentiment_predict(diary),1)\n",
    "#         print(\"get\" + str(pre[0]))\n",
    "#         return \"get\"\n",
    "\n",
    "\n",
    "# if __name__ == \"__main__\" : # .py 파일에서 main함수 역할\n",
    "#     app.run(host=\"localhost\", port=\"5000\")"
   ]
  },
  {
   "cell_type": "markdown",
   "metadata": {},
   "source": []
  }
 ],
 "metadata": {
  "interpreter": {
   "hash": "4bfe9e07939e4c08359f7efa758f6a3cb7d7d492bb4a1089f52c253481390c90"
  },
  "kernelspec": {
   "display_name": "Python 3.8.13 ('dacon')",
   "language": "python",
   "name": "python3"
  },
  "language_info": {
   "codemirror_mode": {
    "name": "ipython",
    "version": 3
   },
   "file_extension": ".py",
   "mimetype": "text/x-python",
   "name": "python",
   "nbconvert_exporter": "python",
   "pygments_lexer": "ipython3",
   "version": "3.8.13"
  },
  "toc": {
   "base_numbering": 1,
   "nav_menu": {},
   "number_sections": true,
   "sideBar": true,
   "skip_h1_title": false,
   "title_cell": "Table of Contents",
   "title_sidebar": "Contents",
   "toc_cell": false,
   "toc_position": {},
   "toc_section_display": true,
   "toc_window_display": false
  }
 },
 "nbformat": 4,
 "nbformat_minor": 4
}
