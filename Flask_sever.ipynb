{
 "cells": [
  {
   "cell_type": "markdown",
   "metadata": {},
   "source": [
    "### Flask 서버 구축"
   ]
  },
  {
   "cell_type": "code",
   "execution_count": 1,
   "metadata": {},
   "outputs": [],
   "source": [
    "import csv\n",
    "\n",
    "with open('X_train1.csv', 'r', encoding='utf-8-sig') as f: \n",
    "  rdr = csv.reader(f) \n",
    "  test = list(rdr)[0]\n",
    "\n",
    "test = list(test)\n",
    "for idx, i in enumerate(test):\n",
    "  test[idx] = i.strip('][').split(', ')\n",
    "\n",
    "for i in range(len(test)):\n",
    "  for j in range(len(test[i])):\n",
    "    test[i][j] = test[i][j][1:-1]"
   ]
  },
  {
   "cell_type": "code",
   "execution_count": 2,
   "metadata": {},
   "outputs": [
    {
     "name": "stdout",
     "output_type": "stream",
     "text": [
      " * Serving Flask app '__main__' (lazy loading)\n",
      " * Environment: production\n",
      "\u001b[31m   WARNING: This is a development server. Do not use it in a production deployment.\u001b[0m\n",
      "\u001b[2m   Use a production WSGI server instead.\u001b[0m\n",
      " * Debug mode: off\n"
     ]
    },
    {
     "name": "stderr",
     "output_type": "stream",
     "text": [
      " * Running on http://localhost:5000/ (Press CTRL+C to quit)\n"
     ]
    },
    {
     "data": {
      "text/plain": [
       "'asdasd'"
      ]
     },
     "metadata": {},
     "output_type": "display_data"
    },
    {
     "name": "stderr",
     "output_type": "stream",
     "text": [
      "127.0.0.1 - - [12/May/2022 10:09:56] \"POST /GJDiaryService/predict HTTP/1.1\" 200 -\n"
     ]
    },
    {
     "name": "stdout",
     "output_type": "stream",
     "text": [
      "42.5\n"
     ]
    },
    {
     "data": {
      "text/plain": [
       "'asdasd'"
      ]
     },
     "metadata": {},
     "output_type": "display_data"
    },
    {
     "name": "stderr",
     "output_type": "stream",
     "text": [
      "127.0.0.1 - - [12/May/2022 11:13:34] \"POST /GJDiaryService/predict HTTP/1.1\" 200 -\n"
     ]
    },
    {
     "name": "stdout",
     "output_type": "stream",
     "text": [
      "42.5\n"
     ]
    },
    {
     "data": {
      "text/plain": [
       "'안녕하세요'"
      ]
     },
     "metadata": {},
     "output_type": "display_data"
    },
    {
     "name": "stderr",
     "output_type": "stream",
     "text": [
      "127.0.0.1 - - [12/May/2022 11:13:58] \"POST /GJDiaryService/predict HTTP/1.1\" 200 -\n"
     ]
    },
    {
     "name": "stdout",
     "output_type": "stream",
     "text": [
      "23.5\n"
     ]
    },
    {
     "data": {
      "text/plain": [
       "'안녕하세요. 만나서 반갑습니다.\\r\\n끝나고 점심이나 맛있는걸로 먹으러 가시죠~!'"
      ]
     },
     "metadata": {},
     "output_type": "display_data"
    },
    {
     "name": "stderr",
     "output_type": "stream",
     "text": [
      "127.0.0.1 - - [12/May/2022 11:14:47] \"POST /GJDiaryService/predict HTTP/1.1\" 200 -\n"
     ]
    },
    {
     "name": "stdout",
     "output_type": "stream",
     "text": [
      "35.8\n"
     ]
    },
    {
     "data": {
      "text/plain": [
       "'오늘도 행복합니다.\\r\\n점심 뭐먹을 생각에 행복합니다.\\r\\n당신도 행복하나요?'"
      ]
     },
     "metadata": {},
     "output_type": "display_data"
    },
    {
     "name": "stderr",
     "output_type": "stream",
     "text": [
      "127.0.0.1 - - [12/May/2022 11:15:36] \"POST /GJDiaryService/predict HTTP/1.1\" 200 -\n"
     ]
    },
    {
     "name": "stdout",
     "output_type": "stream",
     "text": [
      "98.4\n"
     ]
    }
   ],
   "source": [
    "from flask import Flask # 플라스크 클래스 임포트\n",
    "from flask import request, redirect, Request, Response\n",
    "import pickle # 데이터 저장/로딩을 위한 모듈\n",
    "import pandas as pd\n",
    "import numpy as np\n",
    "app = Flask(__name__) # 내장변수 name을 이용해 서버를 구동시키는 객체 생성\n",
    "\n",
    "from tensorflow.keras.models import load_model\n",
    "import re\n",
    "from konlpy.tag import Okt\n",
    "from tensorflow.keras.preprocessing.text import Tokenizer\n",
    "from tensorflow.keras.preprocessing.sequence import pad_sequences\n",
    "import cx_Oracle\n",
    "\n",
    "#한글 지원 방법\n",
    "import os\n",
    "\n",
    "# model = keras.models.load_model(\"model.h5\")\n",
    "loaded_model = load_model('best_model.h5')\n",
    "okt = Okt()\n",
    "stopwords = ['의','가','이','은','들','는','좀','잘','걍','과','도','를','으로','자','에','와','한','하다']\n",
    "tokenizer = Tokenizer(19416)\n",
    "tokenizer.fit_on_texts(test)\n",
    "max_len = 30\n",
    "\n",
    "def sentiment_predict(new_sentence):\n",
    "  new_sentence = re.sub(r'[^ㄱ-ㅎㅏ-ㅣ가-힣 ]','', new_sentence)\n",
    "  new_sentence = okt.morphs(new_sentence, stem=True) # 토큰화\n",
    "  new_sentence = [word for word in new_sentence if not word in stopwords] # 불용어 제거\n",
    "  encoded = tokenizer.texts_to_sequences([new_sentence]) # 정수 인코딩\n",
    "  pad_new = pad_sequences(encoded, maxlen = max_len) # 패딩\n",
    "  score = float(loaded_model.predict(pad_new)) # 예측\n",
    "  \n",
    "  return score\n",
    "\n",
    "@app.route(\"/GJDiaryService/predict\", methods=[\"GET\",'POST'])\n",
    "def predict() :\n",
    "    if request.method == 'POST' :\n",
    "        display(request.form.get('diary')) #사용자가 사용하고 있는 페이지에거 post 방식으로 값을넘겨준다면 form 태그 안에 값으로 넘겨주고 받는다\n",
    "        # 넘어온 값을 전처리\n",
    "        diary = request.form.get('diary')\n",
    "        pre = round(sentiment_predict(diary)*100,1)\n",
    "        print(str(pre))\n",
    "        #flask 에서 예측값(모델 실행후의 결과)를 result.jsp 페이지로 넘긴다 예측값은 url(쿼리스트링 방식 사용)\n",
    "        \n",
    "        resp = Response(str(pre), mimetype='text/html')\n",
    "        # cross 도메인 이슈를 해결하기위해 응답 헤더 추가\n",
    "        resp.headers['Access-Control-Allow-Origin'] = '*'\n",
    "        return resp\n",
    "\n",
    "        # return redirect(\"http://localhost:8081/Diary/calcul_main.jsp?good=\"+str(pre))\n",
    "    else :\n",
    "        # 넘어온 값을 전처리\n",
    "        diary = request.form.get('diary')\n",
    "        pre = round(sentiment_predict(diary),1)\n",
    "        print(str(pre[0]))\n",
    "        return \"get\"\n",
    "\n",
    "if __name__ == \"__main__\" : # .py 파일에서 main함수 역할\n",
    "    app.run(host=\"localhost\", port=\"5000\")"
   ]
  }
 ],
 "metadata": {
  "interpreter": {
   "hash": "4bfe9e07939e4c08359f7efa758f6a3cb7d7d492bb4a1089f52c253481390c90"
  },
  "kernelspec": {
   "display_name": "Python 3.8.13 ('dacon')",
   "language": "python",
   "name": "python3"
  },
  "language_info": {
   "codemirror_mode": {
    "name": "ipython",
    "version": 3
   },
   "file_extension": ".py",
   "mimetype": "text/x-python",
   "name": "python",
   "nbconvert_exporter": "python",
   "pygments_lexer": "ipython3",
   "version": "3.8.13"
  },
  "toc": {
   "base_numbering": 1,
   "nav_menu": {},
   "number_sections": true,
   "sideBar": true,
   "skip_h1_title": false,
   "title_cell": "Table of Contents",
   "title_sidebar": "Contents",
   "toc_cell": false,
   "toc_position": {},
   "toc_section_display": true,
   "toc_window_display": false
  }
 },
 "nbformat": 4,
 "nbformat_minor": 4
}
