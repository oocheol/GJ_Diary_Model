{
 "cells": [
  {
   "cell_type": "markdown",
   "metadata": {},
   "source": [
    "### Flask 서버 구축"
   ]
  },
  {
   "cell_type": "code",
   "execution_count": 1,
   "metadata": {},
   "outputs": [],
   "source": [
    "from tensorflow.keras.models import load_model\n",
    "import re\n",
    "from konlpy.tag import Okt\n",
    "from tensorflow.keras.preprocessing.text import Tokenizer\n",
    "from tensorflow.keras.preprocessing.sequence import pad_sequences\n",
    "import csv\n",
    "\n",
    "# model = keras.models.load_model(\"model.h5\")\n",
    "loaded_model = load_model('best_model.h5')\n",
    "okt = Okt()\n",
    "stopwords = ['의','가','이','은','들','는','좀','잘','걍','과','도','를','으로','자','에','와','한','하다']\n",
    "tokenizer = Tokenizer()\n",
    "max_len = 30\n",
    "\n",
    "def sentiment_predict(new_sentence):\n",
    "  # new_sentence = re.sub(r'[^ㄱ-ㅎㅏ-ㅣ가-힣 ]','', new_sentence)\n",
    "  new_sentence = okt.morphs(new_sentence, stem=True) # 토큰화\n",
    "  new_sentence = [word for word in new_sentence if not word in stopwords] # 불용어 제거\n",
    "  encoded = tokenizer.texts_to_sequences([new_sentence]) # 정수 인코딩\n",
    "  pad_new = pad_sequences(encoded, maxlen = max_len) # 패딩\n",
    "  score = float(loaded_model.predict(pad_new)) # 예측\n",
    "  return \"긍정 {:.2f}% / 부정 {:.2f}%\\n\".format(score * 100,(1- score) * 100)"
   ]
  },
  {
   "cell_type": "code",
   "execution_count": 2,
   "metadata": {},
   "outputs": [
    {
     "name": "stdout",
     "output_type": "stream",
     "text": [
      " * Serving Flask app '__main__' (lazy loading)\n",
      " * Environment: production\n",
      "\u001b[31m   WARNING: This is a development server. Do not use it in a production deployment.\u001b[0m\n",
      "\u001b[2m   Use a production WSGI server instead.\u001b[0m\n",
      " * Debug mode: off\n"
     ]
    },
    {
     "name": "stderr",
     "output_type": "stream",
     "text": [
      " * Running on http://localhost:5000/ (Press CTRL+C to quit)\n"
     ]
    },
    {
     "data": {
      "text/plain": [
       "ImmutableMultiDict([('diary', '������ �ǰ��ϴ�')])"
      ]
     },
     "metadata": {},
     "output_type": "display_data"
    },
    {
     "name": "stderr",
     "output_type": "stream",
     "text": [
      "[2022-05-03 14:01:13,216] ERROR in app: Exception on /TitanicWebService/predict [POST]\n",
      "Traceback (most recent call last):\n",
      "  File \"C:\\Users\\smhrd\\anaconda3\\envs\\dacon\\lib\\site-packages\\flask\\app.py\", line 2077, in wsgi_app\n",
      "    response = self.full_dispatch_request()\n",
      "  File \"C:\\Users\\smhrd\\anaconda3\\envs\\dacon\\lib\\site-packages\\flask\\app.py\", line 1525, in full_dispatch_request\n",
      "    rv = self.handle_user_exception(e)\n",
      "  File \"C:\\Users\\smhrd\\anaconda3\\envs\\dacon\\lib\\site-packages\\flask\\app.py\", line 1523, in full_dispatch_request\n",
      "    rv = self.dispatch_request()\n",
      "  File \"C:\\Users\\smhrd\\anaconda3\\envs\\dacon\\lib\\site-packages\\flask\\app.py\", line 1509, in dispatch_request\n",
      "    return self.ensure_sync(self.view_functions[rule.endpoint])(**req.view_args)\n",
      "  File \"C:\\Users\\smhrd\\AppData\\Local\\Temp\\ipykernel_15284\\52680731.py\", line 17, in predict_survived\n",
      "    pre = sentiment_predict(diary)\n",
      "  File \"C:\\Users\\smhrd\\AppData\\Local\\Temp\\ipykernel_15284\\3334689228.py\", line 17, in sentiment_predict\n",
      "    new_sentence = okt.morphs(new_sentence, stem=True) # 토큰화\n",
      "  File \"C:\\Users\\smhrd\\anaconda3\\envs\\dacon\\lib\\site-packages\\konlpy\\tag\\_okt.py\", line 89, in morphs\n",
      "    return [s for s, t in self.pos(phrase, norm=norm, stem=stem)]\n",
      "  File \"C:\\Users\\smhrd\\anaconda3\\envs\\dacon\\lib\\site-packages\\konlpy\\tag\\_okt.py\", line 69, in pos\n",
      "    validate_phrase_inputs(phrase)\n",
      "  File \"C:\\Users\\smhrd\\anaconda3\\envs\\dacon\\lib\\site-packages\\konlpy\\tag\\_common.py\", line 20, in validate_phrase_inputs\n",
      "    assert isinstance(phrase, basestring), msg\n",
      "AssertionError: phrase input should be string, not <class 'werkzeug.datastructures.ImmutableMultiDict'>\n",
      "127.0.0.1 - - [03/May/2022 14:01:13] \"POST /TitanicWebService/predict HTTP/1.1\" 500 -\n"
     ]
    },
    {
     "data": {
      "text/plain": [
       "ImmutableMultiDict([('diary', '������ �ǰ��ϴ�')])"
      ]
     },
     "metadata": {},
     "output_type": "display_data"
    },
    {
     "name": "stderr",
     "output_type": "stream",
     "text": [
      "[2022-05-03 14:01:15,797] ERROR in app: Exception on /TitanicWebService/predict [POST]\n",
      "Traceback (most recent call last):\n",
      "  File \"C:\\Users\\smhrd\\anaconda3\\envs\\dacon\\lib\\site-packages\\flask\\app.py\", line 2077, in wsgi_app\n",
      "    response = self.full_dispatch_request()\n",
      "  File \"C:\\Users\\smhrd\\anaconda3\\envs\\dacon\\lib\\site-packages\\flask\\app.py\", line 1525, in full_dispatch_request\n",
      "    rv = self.handle_user_exception(e)\n",
      "  File \"C:\\Users\\smhrd\\anaconda3\\envs\\dacon\\lib\\site-packages\\flask\\app.py\", line 1523, in full_dispatch_request\n",
      "    rv = self.dispatch_request()\n",
      "  File \"C:\\Users\\smhrd\\anaconda3\\envs\\dacon\\lib\\site-packages\\flask\\app.py\", line 1509, in dispatch_request\n",
      "    return self.ensure_sync(self.view_functions[rule.endpoint])(**req.view_args)\n",
      "  File \"C:\\Users\\smhrd\\AppData\\Local\\Temp\\ipykernel_15284\\52680731.py\", line 17, in predict_survived\n",
      "    pre = sentiment_predict(diary)\n",
      "  File \"C:\\Users\\smhrd\\AppData\\Local\\Temp\\ipykernel_15284\\3334689228.py\", line 17, in sentiment_predict\n",
      "    new_sentence = okt.morphs(new_sentence, stem=True) # 토큰화\n",
      "  File \"C:\\Users\\smhrd\\anaconda3\\envs\\dacon\\lib\\site-packages\\konlpy\\tag\\_okt.py\", line 89, in morphs\n",
      "    return [s for s, t in self.pos(phrase, norm=norm, stem=stem)]\n",
      "  File \"C:\\Users\\smhrd\\anaconda3\\envs\\dacon\\lib\\site-packages\\konlpy\\tag\\_okt.py\", line 69, in pos\n",
      "    validate_phrase_inputs(phrase)\n",
      "  File \"C:\\Users\\smhrd\\anaconda3\\envs\\dacon\\lib\\site-packages\\konlpy\\tag\\_common.py\", line 20, in validate_phrase_inputs\n",
      "    assert isinstance(phrase, basestring), msg\n",
      "AssertionError: phrase input should be string, not <class 'werkzeug.datastructures.ImmutableMultiDict'>\n",
      "127.0.0.1 - - [03/May/2022 14:01:15] \"POST /TitanicWebService/predict HTTP/1.1\" 500 -\n"
     ]
    },
    {
     "data": {
      "text/plain": [
       "ImmutableMultiDict([('diary', '������ �ǰ��ϴ�')])"
      ]
     },
     "metadata": {},
     "output_type": "display_data"
    },
    {
     "name": "stderr",
     "output_type": "stream",
     "text": [
      "[2022-05-03 14:01:17,854] ERROR in app: Exception on /TitanicWebService/predict [POST]\n",
      "Traceback (most recent call last):\n",
      "  File \"C:\\Users\\smhrd\\anaconda3\\envs\\dacon\\lib\\site-packages\\flask\\app.py\", line 2077, in wsgi_app\n",
      "    response = self.full_dispatch_request()\n",
      "  File \"C:\\Users\\smhrd\\anaconda3\\envs\\dacon\\lib\\site-packages\\flask\\app.py\", line 1525, in full_dispatch_request\n",
      "    rv = self.handle_user_exception(e)\n",
      "  File \"C:\\Users\\smhrd\\anaconda3\\envs\\dacon\\lib\\site-packages\\flask\\app.py\", line 1523, in full_dispatch_request\n",
      "    rv = self.dispatch_request()\n",
      "  File \"C:\\Users\\smhrd\\anaconda3\\envs\\dacon\\lib\\site-packages\\flask\\app.py\", line 1509, in dispatch_request\n",
      "    return self.ensure_sync(self.view_functions[rule.endpoint])(**req.view_args)\n",
      "  File \"C:\\Users\\smhrd\\AppData\\Local\\Temp\\ipykernel_15284\\52680731.py\", line 17, in predict_survived\n",
      "    pre = sentiment_predict(diary)\n",
      "  File \"C:\\Users\\smhrd\\AppData\\Local\\Temp\\ipykernel_15284\\3334689228.py\", line 17, in sentiment_predict\n",
      "    new_sentence = okt.morphs(new_sentence, stem=True) # 토큰화\n",
      "  File \"C:\\Users\\smhrd\\anaconda3\\envs\\dacon\\lib\\site-packages\\konlpy\\tag\\_okt.py\", line 89, in morphs\n",
      "    return [s for s, t in self.pos(phrase, norm=norm, stem=stem)]\n",
      "  File \"C:\\Users\\smhrd\\anaconda3\\envs\\dacon\\lib\\site-packages\\konlpy\\tag\\_okt.py\", line 69, in pos\n",
      "    validate_phrase_inputs(phrase)\n",
      "  File \"C:\\Users\\smhrd\\anaconda3\\envs\\dacon\\lib\\site-packages\\konlpy\\tag\\_common.py\", line 20, in validate_phrase_inputs\n",
      "    assert isinstance(phrase, basestring), msg\n",
      "AssertionError: phrase input should be string, not <class 'werkzeug.datastructures.ImmutableMultiDict'>\n",
      "127.0.0.1 - - [03/May/2022 14:01:17] \"POST /TitanicWebService/predict HTTP/1.1\" 500 -\n"
     ]
    },
    {
     "data": {
      "text/plain": [
       "ImmutableMultiDict([('diary', '������ �ǰ��ϴ�')])"
      ]
     },
     "metadata": {},
     "output_type": "display_data"
    },
    {
     "name": "stderr",
     "output_type": "stream",
     "text": [
      "[2022-05-03 14:01:31,125] ERROR in app: Exception on /TitanicWebService/predict [POST]\n",
      "Traceback (most recent call last):\n",
      "  File \"C:\\Users\\smhrd\\anaconda3\\envs\\dacon\\lib\\site-packages\\flask\\app.py\", line 2077, in wsgi_app\n",
      "    response = self.full_dispatch_request()\n",
      "  File \"C:\\Users\\smhrd\\anaconda3\\envs\\dacon\\lib\\site-packages\\flask\\app.py\", line 1525, in full_dispatch_request\n",
      "    rv = self.handle_user_exception(e)\n",
      "  File \"C:\\Users\\smhrd\\anaconda3\\envs\\dacon\\lib\\site-packages\\flask\\app.py\", line 1523, in full_dispatch_request\n",
      "    rv = self.dispatch_request()\n",
      "  File \"C:\\Users\\smhrd\\anaconda3\\envs\\dacon\\lib\\site-packages\\flask\\app.py\", line 1509, in dispatch_request\n",
      "    return self.ensure_sync(self.view_functions[rule.endpoint])(**req.view_args)\n",
      "  File \"C:\\Users\\smhrd\\AppData\\Local\\Temp\\ipykernel_15284\\52680731.py\", line 17, in predict_survived\n",
      "    pre = sentiment_predict(diary)\n",
      "  File \"C:\\Users\\smhrd\\AppData\\Local\\Temp\\ipykernel_15284\\3334689228.py\", line 17, in sentiment_predict\n",
      "    new_sentence = okt.morphs(new_sentence, stem=True) # 토큰화\n",
      "  File \"C:\\Users\\smhrd\\anaconda3\\envs\\dacon\\lib\\site-packages\\konlpy\\tag\\_okt.py\", line 89, in morphs\n",
      "    return [s for s, t in self.pos(phrase, norm=norm, stem=stem)]\n",
      "  File \"C:\\Users\\smhrd\\anaconda3\\envs\\dacon\\lib\\site-packages\\konlpy\\tag\\_okt.py\", line 69, in pos\n",
      "    validate_phrase_inputs(phrase)\n",
      "  File \"C:\\Users\\smhrd\\anaconda3\\envs\\dacon\\lib\\site-packages\\konlpy\\tag\\_common.py\", line 20, in validate_phrase_inputs\n",
      "    assert isinstance(phrase, basestring), msg\n",
      "AssertionError: phrase input should be string, not <class 'werkzeug.datastructures.ImmutableMultiDict'>\n",
      "127.0.0.1 - - [03/May/2022 14:01:31] \"POST /TitanicWebService/predict HTTP/1.1\" 500 -\n"
     ]
    },
    {
     "data": {
      "text/plain": [
       "ImmutableMultiDict([('diary', '������ �ǰ��ϴ�')])"
      ]
     },
     "metadata": {},
     "output_type": "display_data"
    },
    {
     "name": "stderr",
     "output_type": "stream",
     "text": [
      "[2022-05-03 14:07:40,247] ERROR in app: Exception on /TitanicWebService/predict [POST]\n",
      "Traceback (most recent call last):\n",
      "  File \"C:\\Users\\smhrd\\anaconda3\\envs\\dacon\\lib\\site-packages\\flask\\app.py\", line 2077, in wsgi_app\n",
      "    response = self.full_dispatch_request()\n",
      "  File \"C:\\Users\\smhrd\\anaconda3\\envs\\dacon\\lib\\site-packages\\flask\\app.py\", line 1525, in full_dispatch_request\n",
      "    rv = self.handle_user_exception(e)\n",
      "  File \"C:\\Users\\smhrd\\anaconda3\\envs\\dacon\\lib\\site-packages\\flask\\app.py\", line 1523, in full_dispatch_request\n",
      "    rv = self.dispatch_request()\n",
      "  File \"C:\\Users\\smhrd\\anaconda3\\envs\\dacon\\lib\\site-packages\\flask\\app.py\", line 1509, in dispatch_request\n",
      "    return self.ensure_sync(self.view_functions[rule.endpoint])(**req.view_args)\n",
      "  File \"C:\\Users\\smhrd\\AppData\\Local\\Temp\\ipykernel_15284\\52680731.py\", line 17, in predict_survived\n",
      "    pre = sentiment_predict(diary)\n",
      "  File \"C:\\Users\\smhrd\\AppData\\Local\\Temp\\ipykernel_15284\\3334689228.py\", line 17, in sentiment_predict\n",
      "    new_sentence = okt.morphs(new_sentence, stem=True) # 토큰화\n",
      "  File \"C:\\Users\\smhrd\\anaconda3\\envs\\dacon\\lib\\site-packages\\konlpy\\tag\\_okt.py\", line 89, in morphs\n",
      "    return [s for s, t in self.pos(phrase, norm=norm, stem=stem)]\n",
      "  File \"C:\\Users\\smhrd\\anaconda3\\envs\\dacon\\lib\\site-packages\\konlpy\\tag\\_okt.py\", line 69, in pos\n",
      "    validate_phrase_inputs(phrase)\n",
      "  File \"C:\\Users\\smhrd\\anaconda3\\envs\\dacon\\lib\\site-packages\\konlpy\\tag\\_common.py\", line 20, in validate_phrase_inputs\n",
      "    assert isinstance(phrase, basestring), msg\n",
      "AssertionError: phrase input should be string, not <class 'werkzeug.datastructures.ImmutableMultiDict'>\n",
      "127.0.0.1 - - [03/May/2022 14:07:40] \"POST /TitanicWebService/predict HTTP/1.1\" 500 -\n"
     ]
    }
   ],
   "source": [
    "from flask import Flask # 플라스크 클래스 임포트\n",
    "from flask import request, redirect\n",
    "import pickle # 데이터 저장/로딩을 위한 모듈\n",
    "import pandas as pd\n",
    "import numpy as np\n",
    "\n",
    "app = Flask(__name__) # 내장변수 name을 이용해 서버를 구동시키는 객체 생성\n",
    "\n",
    "model = load_model('best_model.h5')\n",
    "\n",
    "@app.route(\"/TitanicWebService/predict\", methods=[\"GET\",'POST'])\n",
    "def predict_survived() :\n",
    "    if request.method == 'POST' :\n",
    "        display(request.form) #사용자가 사용하고 있는 페이지에거 post 방식으로 값을넘겨준다면 form 태그 안에 값으로 넘겨주고 받는다\n",
    "        # 넘어온 값을 전처리\n",
    "        diary = request.form\n",
    "        pre = sentiment_predict(diary)\n",
    "        print(str(pre[0]))\n",
    "        #flask 에서 예측값(모델 실행후의 결과)를 result.jsp 페이지로 넘긴다 예측값은 url(쿼리스트링 방식 사용)\n",
    "        return redirect(\"http://localhost:8081/TitanicWebService/result.jsp?predict=\"+str(pre[0]))\n",
    "    else :\n",
    "        # 넘어온 값을 전처리\n",
    "        diary = request.form\n",
    "        pre = sentiment_predict(diary)\n",
    "        print(str(pre[0]))\n",
    "        return \"어서오세요2.\"\n",
    "\n",
    "if __name__ == \"__main__\" : # .py 파일에서 main함수 역할\n",
    "    app.run(host=\"localhost\", port=\"5000\")"
   ]
  },
  {
   "cell_type": "code",
   "execution_count": null,
   "metadata": {},
   "outputs": [],
   "source": []
  },
  {
   "cell_type": "code",
   "execution_count": null,
   "metadata": {},
   "outputs": [],
   "source": []
  },
  {
   "cell_type": "code",
   "execution_count": null,
   "metadata": {},
   "outputs": [],
   "source": []
  },
  {
   "cell_type": "code",
   "execution_count": null,
   "metadata": {},
   "outputs": [],
   "source": []
  }
 ],
 "metadata": {
  "kernelspec": {
   "display_name": "Python 3",
   "language": "python",
   "name": "python3"
  },
  "language_info": {
   "codemirror_mode": {
    "name": "ipython",
    "version": 3
   },
   "file_extension": ".py",
   "mimetype": "text/x-python",
   "name": "python",
   "nbconvert_exporter": "python",
   "pygments_lexer": "ipython3",
   "version": "3.8.13"
  },
  "toc": {
   "base_numbering": 1,
   "nav_menu": {},
   "number_sections": true,
   "sideBar": true,
   "skip_h1_title": false,
   "title_cell": "Table of Contents",
   "title_sidebar": "Contents",
   "toc_cell": false,
   "toc_position": {},
   "toc_section_display": true,
   "toc_window_display": false
  }
 },
 "nbformat": 4,
 "nbformat_minor": 4
}
